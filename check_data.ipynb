{
 "cells": [
  {
   "cell_type": "markdown",
   "metadata": {},
   "source": [
    "## Import Libraries"
   ]
  },
  {
   "cell_type": "code",
   "execution_count": 1,
   "metadata": {},
   "outputs": [
    {
     "output_type": "display_data",
     "data": {
      "text/html": "        <script type=\"text/javascript\">\n        window.PlotlyConfig = {MathJaxConfig: 'local'};\n        if (window.MathJax) {MathJax.Hub.Config({SVG: {font: \"STIX-Web\"}});}\n        if (typeof require !== 'undefined') {\n        require.undef(\"plotly\");\n        requirejs.config({\n            paths: {\n                'plotly': ['https://cdn.plot.ly/plotly-latest.min']\n            }\n        });\n        require(['plotly'], function(Plotly) {\n            window._Plotly = Plotly;\n        });\n        }\n        </script>\n        "
     },
     "metadata": {}
    }
   ],
   "source": [
    "# To store data\n",
    "import pandas as pd\n",
    "\n",
    "# To do linear algebra\n",
    "import numpy as np\n",
    "from numpy import pi\n",
    "\n",
    "# To list files\n",
    "from glob import glob\n",
    "\n",
    "# To create plots\n",
    "from matplotlib.colors import rgb2hex\n",
    "from matplotlib.cm import get_cmap\n",
    "import matplotlib.pyplot as plt\n",
    "\n",
    "# To create nicer plots\n",
    "import seaborn as sns\n",
    "\n",
    "# To create interactive plots\n",
    "from plotly.offline import init_notebook_mode, iplot\n",
    "import plotly.graph_objs as go\n",
    "init_notebook_mode(connected=True)\n",
    "\n",
    "# To get new datatypes and functions\n",
    "from collections import Counter\n",
    "from cycler import cycler\n",
    "\n",
    "# To investigate distributions\n",
    "from scipy.stats import norm, skew, probplot\n",
    "from scipy.optimize import curve_fit\n",
    "\n",
    "# To build models\n",
    "from sklearn.preprocessing import StandardScaler, LabelEncoder\n",
    "from sklearn.model_selection import train_test_split\n",
    "from sklearn.metrics import accuracy_score\n",
    "from sklearn.decomposition import PCA\n",
    "from sklearn.manifold import TSNE\n",
    "\n",
    "# To gbm light\n",
    "# from lightgbm import LGBMClassifier\n",
    "\n",
    "# To measure time\n",
    "from time import time"
   ]
  },
  {
   "cell_type": "code",
   "execution_count": 4,
   "metadata": {
    "tags": [
     "outputPrepend",
     "outputPrepend"
    ]
   },
   "outputs": [],
   "source": [
    "# 删除指定的jsons文件\n",
    "import shutil, json\n",
    "\n",
    "record_paths = glob('/Users/liuziyi/Documents/Lifesense/data/step-count/results/records/*.csv')\n",
    "dst_dir = '/Users/liuziyi/Documents/Lifesense/data/step-count/results/records-new'\n",
    "\n",
    "for rp in [record_paths[0]]:\n",
    "    record = pd.read_csv(rp)\n",
    "    record['value_category'] = [2] * len(record)\n",
    "    record.to_csv(rp.replace('results/records', 'results/records-new'), index=None, header=None)\n",
    "    # shutil.copy(jp, dst_dir)\n",
    "\n",
    "\n",
    "\n",
    "# record_paths = glob(os.path.join(json_dir, '**/*.json'), recursive=True)\n",
    "# os.path.join(raw_dir, '**/*.csv')\n",
    "# a = np.loadtxt('/Users/liuziyi/Documents/Lifesense/data/step-count/raw/others/Car/lhc_car_64_steps1.csv')\n",
    "# record = np.loadtxt('/Users/liuziyi/Documents/Lifesense/data/step-count/raw/others/Car/lhc_car_64_steps1.csv', delimiter=' ', dtype=np.int32)"
   ]
  },
  {
   "cell_type": "code",
   "execution_count": 27,
   "metadata": {},
   "outputs": [
    {
     "output_type": "execute_result",
     "data": {
      "text/plain": "numpy.ndarray"
     },
     "metadata": {},
     "execution_count": 27
    }
   ],
   "source": [
    "json_paths = glob('/Users/liuziyi/Documents/Lifesense/data/step-count/results-new/jsons/*.json')\n",
    "\n",
    "for jp in json_paths:\n",
    "    with open(jp, 'r') as f:\n",
    "        annotation = json.load(f)\n",
    "        annotation['segment']['activity_category_id'] = 0\n",
    "    jp_new = jp.replace('/jsons/', '/jsons-改activity_category_id/')\n",
    "    with open(jp_new, 'w') as f:\n",
    "            f.write(annotation)"
   ]
  },
  {
   "cell_type": "code",
   "execution_count": 18,
   "metadata": {},
   "outputs": [
    {
     "output_type": "error",
     "ename": "TypeError",
     "evalue": "ufunc 'right_shift' not supported for the input types, and the inputs could not be safely coerced to any supported types according to the casting rule ''safe''",
     "traceback": [
      "\u001b[0;31m---------------------------------------------------------------------------\u001b[0m",
      "\u001b[0;31mTypeError\u001b[0m                                 Traceback (most recent call last)",
      "\u001b[0;32m<ipython-input-18-ccc9cf49a801>\u001b[0m in \u001b[0;36m<module>\u001b[0;34m\u001b[0m\n\u001b[1;32m      1\u001b[0m \u001b[0mrecord\u001b[0m \u001b[0;34m=\u001b[0m \u001b[0mnp\u001b[0m\u001b[0;34m.\u001b[0m\u001b[0mloadtxt\u001b[0m\u001b[0;34m(\u001b[0m\u001b[0;34m'./bus3.csv'\u001b[0m\u001b[0;34m)\u001b[0m\u001b[0;34m\u001b[0m\u001b[0;34m\u001b[0m\u001b[0m\n\u001b[0;32m----> 2\u001b[0;31m \u001b[0mrecord\u001b[0m\u001b[0;34m[\u001b[0m\u001b[0;34m:\u001b[0m\u001b[0;34m]\u001b[0m \u001b[0;34m>>\u001b[0m \u001b[0;36m6\u001b[0m\u001b[0;34m\u001b[0m\u001b[0;34m\u001b[0m\u001b[0m\n\u001b[0m",
      "\u001b[0;31mTypeError\u001b[0m: ufunc 'right_shift' not supported for the input types, and the inputs could not be safely coerced to any supported types according to the casting rule ''safe''"
     ]
    }
   ],
   "source": [
    "record = np.loadtxt('./bus3.csv')\n",
    "record[:] >> 6"
   ]
  },
  {
   "cell_type": "code",
   "execution_count": 10,
   "outputs": [],
   "source": [
    "np.savetxt('./accx', record[:, 0], delimiter=', ', fmt=\"%d, \")\n",
    "np.savetxt('./accy', record[:, 1], delimiter=', ', fmt=\"%d, \")\n",
    "np.savetxt('./accz', record[:, 2], delimiter=', ', fmt=\"%d, \")"
   ],
   "metadata": {
    "collapsed": false,
    "pycharm": {
     "name": "#%%\n"
    }
   }
  },
  {
   "cell_type": "code",
   "execution_count": 11,
   "outputs": [
    {
     "output_type": "execute_result",
     "data": {
      "text/plain": "11552"
     },
     "metadata": {},
     "execution_count": 11
    }
   ],
   "source": [
    "len(record)"
   ],
   "metadata": {
    "collapsed": false,
    "pycharm": {
     "name": "#%%\n"
    }
   }
  },
  {
   "cell_type": "code",
   "execution_count": null,
   "outputs": [],
   "source": [
    "\n"
   ],
   "metadata": {
    "collapsed": false,
    "pycharm": {
     "name": "#%%\n"
    }
   }
  }
 ],
 "metadata": {
  "language_info": {
   "codemirror_mode": {
    "name": "ipython",
    "version": 3
   },
   "file_extension": ".py",
   "mimetype": "text/x-python",
   "name": "python",
   "nbconvert_exporter": "python",
   "pygments_lexer": "ipython3",
   "version": "3.7.4-final"
  },
  "orig_nbformat": 2,
  "kernelspec": {
   "name": "python37464bitc7dbff7cecd44203afd70ad84a4441ae",
   "language": "python",
   "display_name": "Python 3.7.4 64-bit"
  }
 },
 "nbformat": 4,
 "nbformat_minor": 2
}